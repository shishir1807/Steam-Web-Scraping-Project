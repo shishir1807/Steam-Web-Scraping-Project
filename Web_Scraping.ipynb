{
 "cells": [
  {
   "cell_type": "code",
   "execution_count": 1,
   "id": "565cb14f",
   "metadata": {},
   "outputs": [],
   "source": [
    "import requests\n",
    "from bs4 import BeautifulSoup\n",
    "import pandas as pd\n",
    "import math"
   ]
  },
  {
   "cell_type": "code",
   "execution_count": 2,
   "id": "7bbd8fae",
   "metadata": {},
   "outputs": [],
   "source": [
    "url = \"https://store.steampowered.com/games/\"\n",
    "response = requests.request(\"GET\",url)\n",
    "data = BeautifulSoup(response.text,'html.parser')"
   ]
  },
  {
   "cell_type": "code",
   "execution_count": 3,
   "id": "018dc835",
   "metadata": {},
   "outputs": [],
   "source": [
    "## Get the links of top 5 games\n",
    "links = []\n",
    "for link in data.find_all(\"a\",{\"class\" : \"tab_item\"},limit=5):\n",
    "  links.append(link.get('href'))"
   ]
  },
  {
   "cell_type": "code",
   "execution_count": 4,
   "id": "bd511735",
   "metadata": {
    "scrolled": true
   },
   "outputs": [
    {
     "data": {
      "text/html": [
       "<style type=\"text/css\">\n",
       "#T_3c63d_ th {\n",
       "  text-align: centre;\n",
       "}\n",
       "#T_3c63d_row0_col0, #T_3c63d_row0_col1, #T_3c63d_row0_col2, #T_3c63d_row0_col3, #T_3c63d_row0_col4, #T_3c63d_row0_col5, #T_3c63d_row1_col0, #T_3c63d_row1_col1, #T_3c63d_row1_col2, #T_3c63d_row1_col3, #T_3c63d_row1_col4, #T_3c63d_row1_col5, #T_3c63d_row2_col0, #T_3c63d_row2_col1, #T_3c63d_row2_col2, #T_3c63d_row2_col3, #T_3c63d_row2_col4, #T_3c63d_row2_col5, #T_3c63d_row3_col0, #T_3c63d_row3_col1, #T_3c63d_row3_col2, #T_3c63d_row3_col3, #T_3c63d_row3_col4, #T_3c63d_row3_col5, #T_3c63d_row4_col0, #T_3c63d_row4_col1, #T_3c63d_row4_col2, #T_3c63d_row4_col3, #T_3c63d_row4_col4, #T_3c63d_row4_col5 {\n",
       "  text-align: centre;\n",
       "}\n",
       "</style>\n",
       "<table id=\"T_3c63d_\">\n",
       "  <thead>\n",
       "    <tr>\n",
       "      <th class=\"col_heading level0 col0\" >Title</th>\n",
       "      <th class=\"col_heading level0 col1\" >Positive Review Count</th>\n",
       "      <th class=\"col_heading level0 col2\" >Developer</th>\n",
       "      <th class=\"col_heading level0 col3\" >Publisher</th>\n",
       "      <th class=\"col_heading level0 col4\" >System Requirements</th>\n",
       "      <th class=\"col_heading level0 col5\" >Review</th>\n",
       "    </tr>\n",
       "  </thead>\n",
       "  <tbody>\n",
       "    <tr>\n",
       "      <td id=\"T_3c63d_row0_col0\" class=\"data row0 col0\" >HAYAI</td>\n",
       "      <td id=\"T_3c63d_row0_col1\" class=\"data row0 col1\" >10</td>\n",
       "      <td id=\"T_3c63d_row0_col2\" class=\"data row0 col2\" >Chaoclypse</td>\n",
       "      <td id=\"T_3c63d_row0_col3\" class=\"data row0 col3\" >Chaoclypse </td>\n",
       "      <td id=\"T_3c63d_row0_col4\" class=\"data row0 col4\" >OS: Windows 7🔴Processor: 2.0 GHz dual core or better🔴Memory: 1024 MB RAM🔴Graphics: Dedicated GPU with OpenGL 3.3 support🔴Storage: 100 MB available space</td>\n",
       "      <td id=\"T_3c63d_row0_col5\" class=\"data row0 col5\" >Mada mada🔴Corral some dudes and chop em up, five ways. Look, it's not complicated. Engaging and cathartic arcade fun for the price of a coke bottle, but better for your health.🔴Fun Game, 100%'d the game pretty quickly but it was fun the whole time. Favourite character was Hidetoshi.🔴Yooooooooooooooooooooooooooooooooooooooooooooooooooooooooooooo🔴It is as satisfying as id hoped it be. Cant wait to play more of it at lunch. The combos feels so rewarding and the 5 characters plays so differently. Haya!🔴It's a very neat, very fun game with an unique gameplay and quite challenging mechanics! It's a shame it's quite short, but it has a lot of potential for more content if so the developers wish.As is right now, it's fun enough to warrant the price and I highly recommend at least for the sweet, frantic experience it's able to give you!🔴I really love this! Gonna play this during my free time since its a good game to play a round or two of and get a wake up boost from when I mess up and wont take hours to play a round of but that could be just because of my skill. Its the perfect amount of addictive for me, helps me get through working on stuff so I can play again but not addictive enough to make me keep playing and forget about time.🔴simple but fun chop-em-up. reminds me of a good flash game I would have played in middle school.🔴2nd best £1.69 I ever spent (first was when I had a voucher for a half price big mac meal)🔴Fun game! Each character plays differently but it's also easy to figure out. The character I'm best at seems to be Tomoe!</td>\n",
       "    </tr>\n",
       "    <tr>\n",
       "      <td id=\"T_3c63d_row1_col0\" class=\"data row1 col0\" >Jack Move: I.C.E Breaker</td>\n",
       "      <td id=\"T_3c63d_row1_col1\" class=\"data row1 col1\" >34</td>\n",
       "      <td id=\"T_3c63d_row1_col2\" class=\"data row1 col2\" >So Romantic</td>\n",
       "      <td id=\"T_3c63d_row1_col3\" class=\"data row1 col3\" >HypeTrain Digital </td>\n",
       "      <td id=\"T_3c63d_row1_col4\" class=\"data row1 col4\" >Requires a 64-bit processor and operating system🔴OS: Windows XP and above🔴Processor: 1.2Ghz🔴Memory: 1024 MB RAM🔴Graphics: 512MB🔴Storage: 300 MB available space</td>\n",
       "      <td id=\"T_3c63d_row1_col5\" class=\"data row1 col5\" >2022.5.20 クリア済レビュー『Jack Move: I.C.E Breaker』は、レトロスタイルなJRPGに強くインスパイアされた、近未来のサイバーパンク世界を舞台とした2D RPGゲームだ。主人公は街の自警団に所属する女性ハッカーのノア。世界を牛耳る巨大なコングロマリット『モノマインド』を相手に、彼らの手によって行方知れずとなった父親の手がかりを求めて行動していくこととなる。ゲームプレイ本作は良い意味でレトロでオーソドックスなRPGだ。ストーリーベースの作品で、メインクエストとサブクエストとで構成されている。2Dマップはシームレスではなく、一定の広さで区切られていてエリア移動する形だ。戦闘は、素早さで敵味方の行動順が回ってくるタイプのコマンドバトル。マップ上に敵の姿が見えないランダムエンカウント方式で、遭遇するとサイバースペースに突入して戦う。コマンドは通常攻撃と防御、いわゆる魔法に相当するソフトウェア、ダメージを与える or 受けることでゲージを貯めて発動する必殺技 \"ジャックムーブ\" が用意されている。属性の概念や使い込むことで強化される熟練度的なシステム、主人公自身も経験値を得てのレベルアップなどもRPGとしての基本を抑えた印象だ。必要以上に難しい用語も要素もなく、ビジュアルを含めてサイバーパンクな世界観に上手く落とし込まれていて、現代の感覚からしてもプレイはしやすいだろう。I.C.E Breakerとは本作の立ち位置について開発者のempika氏にDiscordで伺ったところ、その名の通り『Jack Move』本編のアイスブレイクとしてリリースされたもので、ストーリーのプロローグとして形にしたデモ版とのことだった。早ければ30分程度でクリアできるボリュームだが、丁寧なチュートリアルがありセーブも可能、なにより日本語化されているので、これまでイベントで公開されていたデモ版よりもより深く体験できるはずだ。本編は2022年リリース予定で開発中なので、ウィッシュリストに入れて期待して待とう。https://store.steampowered.com/app/1099640/Jack_Move/日本語翻訳/ローカライズ日本語字幕に対応。ただし翻訳内容そのものはしっかり翻訳されているものの、テキストはすべて平仮名とカタカナのみで構成されていて、漢字と句読点がまったく使われていないのだが・・・これが意外と違和感なく読めてしまう。翻訳内容自体は品質が高く、重要なキーワードは色分けされていること。平仮名とカタカナの表示バランスが良く、ワード毎にスペースが開けられているからだろう。レトロスタイルに沿って意図的にこの形としているようで、これはこれで味があって良い翻訳だと感じられるものだ。翻訳は、くらむ氏 (@clamm0363) と、ラスカル/Soichiro Arai氏 (@rascal111111) が共同で担当されている。気になるポイント全体的にバランス良くできている、という印象なので目立って気になるポイントはないというのが正直なところだ。あえてフィードバックをするとすれば、例えば任意でダッシュできる機能といったように、プレイを補助するタイプのものが追加されるとより便利かも知れない。オプションには既に、画面酔いの防止機能や、戦闘を簡略化するクイックバトル機能、必殺技のコマンド入力操作を常に成功させてくれる機能などが用意されているので、フィードバックで更に追加される可能性もあるだろう。総評プレイしてみるとわかるが、これまでSteam Next Festなどのイベントで公開されてきたデモ版からかなりブラッシュアップされていて、既に完成度は高いと感じられる。レトロスタイルなJRPGインスパイアということで、かつての古き良きゲームデザインを忠実に再現しながらも、細かな部分は現代的なセンスでプレイしやすく手が入れられているといった印象だ。まだ本編は開発中なので、是非本作でその一端に触れてみてはどうだろうか。🔴It's a short demo but the content is a lot of fun.Turn based combat is not something I typically enjoy a lot but in this game it seems to click. You have a decent variety of combat options and most importantly every move feels impactful, from the basic Hack ability to the Jack Move ability.The art-style also looks very good, especially in combat where every animation is very smooth.After playing the demo I hope to play the full version as soon as possible.🔴Nice JRPG! The set of the upgrades of the character leave a huge space for variants of level-uping! Dialoges and NPC are very well-made too. Will wait for full game to release!🔴Great demo version of the game, everything is done in a cool style. The music in the game is great. The only thing is that 1 boss may have too many health points at the beginning. And so everything is cool. I'm waiting for the full version of the game!)🔴Wowowowow! Okay, back when I played the original demo, I fell in love with this game, and the world So Romantic was starting to weave together- now, even more so. The controls are a bit odd to start, but I probably just missed the option to re-bind some keys to get it in a more familiar place. Regardless, the gameplay is silky smooth, and graphically it's just as impressive as ever!Small secrets to find, just as little bonuses, and the flow of combat feels excellent as always. Looking forward to the full release! <3🔴I've been following the developer for a while, and glad to see that we're breaking the ice here! Awesome but short prologue story!🔴sweet game. post this to that people will notice it.🔴Solid demo, good sense of humour, shows a lot of promise!🔴I liked the game, I really like games in this style, like pixel and simple. I would like to know how the story will develop further.🔴Nice demo, I hope the game will be as good!!</td>\n",
       "    </tr>\n",
       "    <tr>\n",
       "      <td id=\"T_3c63d_row2_col0\" class=\"data row2 col0\" >DEADCRAFT</td>\n",
       "      <td id=\"T_3c63d_row2_col1\" class=\"data row2 col1\" >Insufficient User Reviews</td>\n",
       "      <td id=\"T_3c63d_row2_col2\" class=\"data row2 col2\" >Marvelous Inc.</td>\n",
       "      <td id=\"T_3c63d_row2_col3\" class=\"data row2 col3\" >XSEED Games, Marvelous USA, Inc., Marvelous </td>\n",
       "      <td id=\"T_3c63d_row2_col4\" class=\"data row2 col4\" >Requires a 64-bit processor and operating system🔴OS: Windows 8.1/10🔴Processor: Intel i5-4570 / AMD FX-8300🔴Memory: 8 GB RAM🔴Graphics: NVIDIA Geforce GTX 960 / Radeon HD7970🔴DirectX: Version 11🔴Storage: 6 GB available space</td>\n",
       "      <td id=\"T_3c63d_row2_col5\" class=\"data row2 col5\" >Video review: https://youtu.be/BWrNRnimvXAWritten review below!DEACRAFT is a bit of a mess. It’s trying to be all of these things at once, but it feels like the effort was thinly spread out and no single aspect of the game really stands above the rest - it’s just all kinda… basic.Note: Trimmed review to fit character limit, check video for full version!Combat & Survival MechanicsYou basically play as a half-zombie half-human hybrid and can attack with normal human weapons like axes, knives, and guns, but also have this zombie arm to pull off special attacks. It’s not a terrible system, it’s just coupled with some incredibly stiff and monotonous combat.This is the type of combat where attacks cannot be canceled, staggering enemies is seemingly inconsistent, and it felt like I was fighting the survival mechanics more so than the actual enemies. At the start of the game, you can barely go two or three enemy encounters before your energy is depleted and you have to trek all the way back to home base to sleep and then repeat that again once you’ve gone through the next few encounters and so on.The game practically forces you to to dump your early skill points into increased energy, hunger, and thirst - otherwise it is a struggle to get anything done. And even once you do have higher levels, the constant back and forth between home base and the town is really annoying. There are merchants that sell parts in the town, but no actual crafting table is available there - so it becomes this constant back and forth that quickly grew tiring.Quest Design & Game LoopThe game quite literally starts with a slow escort mission and then after that point, about 80% of the quests became simple “go here, fetch/kill this, come back” or “go home, craft this, bring it back” and the like. It is never fun to load up a new game like this, head to the mission board, and be presented with a handful of straight up fetch quests - kinda sets the expectation for how much work went into the game as a whole.And that’s ultimately my problem with DEADCRAFT. I have so many other, better options within this very genre that why should I spend the time here playing something that just feels so unfinished. I mean, the stuff you can craft is kinda cool and the fact that you can plant bodies to grow zombies is also interesting, but it’s wasted with what the rest of the experience offers.OverallDEADCRAFT is unfortunately a pass and not worth the recommendation. The zombie-human hybrid thing is cool, but pretty much everything else about the game feels half-baked .Follow my Steam Curator Page for more reviews + videos!🔴デモ版はプレイしてないので、初めから書きますね ^^)　けっこう色んな要素が詰まったゲームな感じがしてます。 【物語】 　まだ初めだけですが、、、ある日ゾンビウィルス付き隕石が衝突し、四人はゾンビ化、人間社会は崩壊。人類は生き残るも、力を持つものが地域を支配するﾋｬｯﾊｰで地獄な世界になり果てる。主人公は、そんな中で権力者に個人的な恨みがあり、復讐してやんよ的なノリです。　主人公の拠点は、そんなコロニーの周辺にできたスラム街とマップ的に少し離れた隠家。そしえてスラム街の顔役というかリーダー的な人物とお互いの利益の為に共闘することに。ゲームプレイは、このスラム街と隠家を拠点として進めて行くことになります。今のところ、「細かいクエスト」という形でゲームが構成されてる感じですね。細かい区切りがある感じ。メインクエスト、サブクエといった感じです。 【アクション】 まずアクションですが、よくあるタイプのどこかでプレイしたことのある感じの見下ろし型アクションです。攻撃ボタンをポンポンポンと押して、いつものコンボって感じの奴です。あとは回避ボタンとガード、周囲巻き込み吹っ飛ばし系の必殺技が１種類使えました。１対１のバトルというより、自分対多数でどう立ち回るかがミソの戦闘ですね。周囲の敵を一か所にまとめて必殺技でドンが気持ちいです ^^) 【腹減り＆のどの渇き】 が、あるタイプです。さらに攻撃や収集といったアクションによって消費されるスタミナゲージもあります。なくなると視界不良やHPが減るなどの罰則がありますが、今のところ最低限の回復アイテムはすぐに手に入るようになってます。 【成長要素】 キャラ素体の「レベル」というのはありません。戦闘やクエスト消化で手に入るスキルポイントを消費して、前述した腹減り速度を遅らせたり、回復アイテム所得量を増やすなど。さらに様々なクラフト要素も、このスキルによって可能になっていきます。スキル取得に関しては、所謂スキルツリー形式になってるので、特定の経路を突き進むのか、まんべんなく取得していくのか悩む楽しさがあります。もちろん、スキルも複数のジャンルといか分類があり、クラフト系、基礎体力系、武器系などいろいろある感じ。 【ハーフゾンビという設定】 　主人公は、人間とゾンビのハーフという設定。これがゲームシステムにどう落とし込んでるかというと、、、「人間状態」と「ゾンビ状態」のバランス？割合？という感じで常にステータスが変化します。消費アイテムでバランスをコントロールできる模様。人間状態寄りだと、防御力が低いので戦闘では不利だが拠点などで人間として生活できる。ゾンビ状態寄りだと攻撃力が高まるが、拠点では人間との交流が難しくなる感じ。　とはいえ、拠点で「寝る」とバランスが中立にリセットされるので、このシステムで煩わされるといった感じにはならなさそう。むしろ戦闘の際にアイテムなどを使用し戦闘向きのゾンビ寄りに持っていくのが攻略とかになりそう？ 【とりあえず４時間ほど遊んだ所感】 　プレイフィーリングは、ゲームの文法に乗っ取った作りなので、アクションやクラフトなんかもすぐになれると思います。チュートリアルや説明も結構しっかりしてます。ゲームシステムで「？？？」となることは少ないと思います。プレイしやすい。UIやアクション部分関しても、今のところ余計なストレスを感じることはないので好印象。　ゲームシステム的な真新しさではなく、やはりこの変な世界観を楽しんでもらう作りをしてますね。「敵のしたい」から「ゾンビの種」をクラフトし、畑に植えたら水ではなく「ゾンブラッド」を与える。そうするとゾンビが育ちます。収穫したマイゾンビは戦闘に投入。でもすごく弱いからすぐにしんじゃう。消耗品ですねｗ でもそのおバカなノリが、このゲームの醍醐味。おバカ武器もクラフトできるっぽいし、ゾンビ系野菜を育てたり。この世界観をもっと楽しんでみたい。４時間プレイして、とりあえずこんな感じです。🔴Look, going to be honest. The game has no mouse support, and it doesn't recognize a wireless XBox Series controller. That alone is enough for a negative review from me. Don't know how it plays because I can't play it with any reasonable ability. Pure keyboard controls are terrible.Don't buy it, even if you have a controller that works. This is pretty unacceptable.🔴Un vídeo vale más que mil palabras...........https://www.youtube.com/watch?v=Rtckpk-3duc&list=PLPsIZqp3c64jHe6-Sz3dUOoPe9OLJBe7pUna propuesta interesante la que nos propone este deadcraft.Supervivencia y acción postapocalíptica zombi.Encarnamos Reid mitad humano mitad zombi, deberemos sobrevivir y lidiar nuestro ejercito de zombis para buscar la venganza.Supervivencia, crafteo, arbol de habilidades, cultivo de zombis y mas cosas las que nos propone este Deadcraft.🔴蛮休闲的游戏  就是有些贵  建议用手柄玩  PC的键盘操作属实乱编排 不知道DLC的美人丧尸什么时候出（滑稽）🔴适合手柄玩。游戏一般，价格略高。🔴操作方式也太阴间了，转的我快吐了🔴You play as a human-zombie creature which has some cool special combat moves. There are a lot of items to craft like crazy weapons.The fun factor in this game is also great. Enjoy this gameplay video: https://youtu.be/9H4Ak-0Fqc0🔴There are few things that are interesting and great about this game. Performance plays very smooth and skills + crafting, but that's it.Now the bad things:1. Combat is very boring or has been in the first 4 hours that i have played. Spam attack and do a boring special. Farm (you literally have to grow them) useless zombies that are your minions. Those zombies die so fast, but take quite a long time to grow.2. Very few lines are voice-acted. Feel like there is more reading to be done than playing the game.3. Story is just running back and forth, because npc's want to stall you by crafting useless stuff. Story is just a tutorial for the most part.🔴游戏是好游戏，但是键盘的操作太阴间了，等手柄到了再玩吧</td>\n",
       "    </tr>\n",
       "    <tr>\n",
       "      <td id=\"T_3c63d_row3_col0\" class=\"data row3 col0\" >Prognostic</td>\n",
       "      <td id=\"T_3c63d_row3_col1\" class=\"data row3 col1\" >137</td>\n",
       "      <td id=\"T_3c63d_row3_col2\" class=\"data row3 col2\" >Steppe Hare Studio</td>\n",
       "      <td id=\"T_3c63d_row3_col3\" class=\"data row3 col3\" >Steppe Hare Studio </td>\n",
       "      <td id=\"T_3c63d_row3_col4\" class=\"data row3 col4\" >Requires a 64-bit processor and operating system🔴OS: 64bit Windows 7, Windows 8, Windows 10🔴Processor: Intel Core i3-4340 / AMD FX-6300🔴Memory: 6 GB RAM🔴Graphics: NVIDIA GeForce 660 GTX🔴DirectX: Version 11🔴Storage: 8 GB available space🔴Sound Card: Realtek High Definition Audio</td>\n",
       "      <td id=\"T_3c63d_row3_col5\" class=\"data row3 col5\" > Unique, Scary and Exciting! If you'd rather see a playthrough because you aren't sure what kind of game it is you can do so here, otherwise keep on reading: https://www.youtube.com/watch?v=B_TULVaiczQIt's not super often that a new kind of game comes out in the horror genre that does something completely different than other games. I'm On Observation Duty was definitely one of them and a GEM of a find on Steam. This, as it turns out, is doing the same thing. Blazing their own trail.This game is a puzzle / investigation / horror game. You have to use the various tools in the house to communicate with the dead and to solve crimes for your cop brother back in the early 1900s. The story, honestly, doesn't matter too much. Your grandmother was a seer of some repute and she disappeared. You are back in the house which she got murdered and you're trying to solve that crime as well as others. None of that is important though as the gameplay itself is where this game shines like the sun.You'll be given a case file and suspects and you have to use the various tools around the house (while having the bejesus scared out of you with random events) to determine who was the killer and sometimes where they are currently hiding. You have a map of the town which you can use dowsing rods to determine location, tarot cards which reveal relationships between people, runes that can reveal secrets a person is hiding... etc etc. You have to move through the house while avoiding THE SCARY MIRROR WOMAN and solve crimes. Nothing is scarier than hearing those whispers start and KNOWING you have to go find the mirror and shut it before... she comes. You don't want her to be in the house with you TRUUUUUST me.The puzzles are extremely fun. The clues are neat to discover. The house is spooky and the atmosphere is tense. There are a lot of random horror events that will happen that I won't spoil, but just know that you're never safe from a jump scare. Also I should point out that there aren't that MANY jumpscares. Doors can slam, lights can explode... things like that. There are also some WAY MORE INTENSE ONES. I'll let you find them for yourself. I beat all the missions in a little over 3 hours but I took a few breaks here and there. The game is explained and plays really well and is just a treat. Highly recommend if you enjoy investigation / puzzle games and the horror genre that you give this a look. Normally I make videos on these games but I had to get a positive review out ASAP just because the game deserves it. Check it out!Join the Curator group for more reviews and \"unboxing\" of unknown games! https://store.steampowered.com/curator/34634494/🔴---{Gameplay}---☐ Try not to get addicted☑ Very good☐ Good☐ Nothing special☐ Ehh☐ Bad☐ Just dont---{Graphics}---☐ Masterpiece☐ Beautiful☑ Good☐ Decent☐ Will do☐ Bad☐ Awful☐ Paint.exe---{Audio}---☐ Fascinating☑ Very good☐ Good☐ Decent☐ Not too bad☐ Bad☐ Earrape---{Audience}---☐ Kids☑ Teens☑ Adults☐ Everyone---{Story}---☐ Doesn't have☐ Something isnt nothing I guess☐ Not greatly told☑ Average☐ Good☐ Will make you cry a lot---{Playstyle}---☐ Almost never the same in any two people☑️ Varies a little bit from person to person☐ Weapon AND character classes☐ Weapon OR character classes☐ Creative AND Survival☑ Creative OR Survival☐ Melee AND Ranged☐ Melee OR Ranged---{Difficulity}---☐ Just press a bunch of buttons☐ Easy☐ Significant brain usage☐ Easy to learn / Hard to master☑ Not so easy☐ Difficult☐ Dark Souls---{Grind}---☑ Nothing☐ Only if you care about leaderboards/ranks☐ Isn't necessary to progress☐ A bit grindy sometimes☐ Average grind level☐ A bit grindy☐ Insanity---{Game Time}---☐ Long enough for a cup of tea☐ Short☑ Average☐ Long☑️Depends on you☐ Endless---{Price}---☐ Just buy it☑ Worth the price☐ Wait for sale☐ Maybe if you have some spare money left☐ Not recommended☐ Dont throw money into a rubbish bin---{Micro-Transactions}---☐ EA☐ Mobile Game(Necessary if you don’t want to wait 15 weeks to construct a toaster)☐ “Premium” Currency AND Normal Currency☐ “Premium” Currency OR Normal Currency☐ Quick way to advance☐ Fortnite(Skins/Emotes/Etc)☐ Only to show off big time☐ Level DLC☑ None---{Bugs/Glitches}---☐ Never had any☑ Minor bugs/glitches☐ Few bugs/glitches☐ Can get annoying☐ Ruining the game☐ The game itself is a big terrarium for bugs/glitches---{?/10}---☐ 1☐ 2☐ 3☐ 4☐ 5☐ 6☐ 7☑ 8☐ 9☐ 10🔴Детективный хоррор в котором мы используя практики медиумов будет помогать брату в расследованиях.Механика в целом понравилась, но уж слишком простые дела. Хотелось бы видеть больше цепочек и их развития. Дела пока очень слабые и складывается ощущение, что наш брат просто плохой и ленивый следователь не способный к анализу. Больше путаниц в делах....мы же медиум.Не понравилось:-Промахнулся и указал в уликах цвет волос вместо цвет глаз и игра сразу же сообщила, что это не верный выбор. Подумал, что это при первой ошибке игра предупреждает, но нет....игра всегда указывает на неверный выбор. Как то это слишком казуально? нет? Хотелось бы отключения подобной опции. Всё таки это детектив.-Механика шёпота и  бабушки. Возможно на эту механику большие планы, но сейчас это выглядит как бессмысленное растягивание игрового времени.-Повествование и в целом художественный текст как в письмах от брата так и в книгах....ну он....скудный, неинтересный, не вовлекает в атмосферу. Как хоррор игра для меня не работает. Нарратив не работает, не создаёт атмосферу чего-то мистического, пугающего и потустороннего.Но как детектив проект заинтересовал, буду следить.🔴Tbh, I am terrible with games that depends on reflexes. Therefore, as much as I loved Prognostic, I had to stop playing after the tutorial, murder because I can't pass the part with the mirror intruder, I don't have the skills and honestly don't enjoy trying to. :/ I'd truly love an option to play the game with all the rituals, mysteries, puzzle solving and exploration, without the need to be fast or take actions like closing the mirror gate. Not saying to just exclude it from the game because for some other players it can actually be an intriguing part, but is it possible to make it an option to skip it?🔴This is an incredibly solid game. I've kept an eye on it since I stumbled on it's trailer and man, I was right. Prognostic has very engaging gameplay with all of this divination stuff and home exploration (but more like room unlocking). It balances supernatural horror with a quest elements — and balances it very well. Each day you have different case to solve and each day atmosphere in your home becomes more creepy and dangerous.It's worth definitely it's price.🔴Детективный хоррорhttps://youtu.be/jLzZnIjBe08Все действие происходит в логове нашей бабки, а геймплей заключается в расследовании преступлений, поиске улик с помощью гадания, ритуалов и прочей мистической дичи. Периодически в доме творится чертовщина, от чего становится не по себе - звуки, атмосфера на высоте, равно как и визуал, освещение, оптимизация. С каждым новым днем дела запутанней, а способов их решения больше. P.S. Может добавить возможность быстрого сохранения? Потому что после провала, начинать все с начала удовольствия не доставляет, хоть и повторяется быстро. -----------------------------Мои  обзоры  и  прохождения🔴He jugado muchísimos juegos de terror, desde Phantasmagoria cuando era pequeño, hasta más reciente Devour.Ninguno me ha asustado, empezaba a pensar que los juegos de terror era imposible que asustasen.Hasta que jugué a este juegazo...Me hizo hasta estar sugestionado en la propia silla con cada ruido que escuchaba en mi habitación, lo recomiendo muchísimo, el único problema es que no tiene Español, es el punto débil del juego, ya que la historia es importante y a veces necesitas saber bastante inglés para poder resolver un caso y enterarte de las mecánicas.Pero sin ningún problema, me podéis preguntar por privado y yo os las explico.Ojalá lo tradujese al español, ganaría muchísimos más jugadores.Resumen del juego:Eres mmmm, llamemos a lo que eres, un espiritista, tienes que hacer uso de herramientas para averiguar información sobre casos que te pasará tu hermano que es detective.Harás uso de herramientas que hay por toda la casa, mientras desatas las fuerzas del mal y ocurren eventos paranormales.Además tienes que emplear la lógica al estilo quién es quién.Los gráficos son muy buenos, la optimización no es la mejor del mundo, pero a mi jugando un poco con la calidad y esas cosas, he podido hacer streaming con una gtx970.El sonido es increíble, te envuelve.La jugabilidad, no se trata de un juego estili Phasmophobia, es una especie de campaña o historia.A medida que avanzas en la historia, la casa va ofreciendo más herramientas y problemas.Lo recomiendo muchísimo, es muy entretenido y hacedme caso, que asusta bastante.Esto si es un juego de miedo.🔴I wanted to play this after I saw CJU playing it. Tense atmosphere, especially with those mirrors, and engaging, unique puzzles. I love anything with an occult mechanic and this game definitely utilizes it well. There was a fantastic \"Ah-Ha\" moment that was top notch, you really felt like an investigator with unconventional methods.My only gripe is that sometimes it's hard to identify what the dowsing rods are pointing at when it comes to trying to identify character features. But if this is just early access I have very high hopes for the final product. Such a great experience for the price, looking forward to more🔴Вы медиум. Который приехал к бабушке на дачу, чтобы отведать ее пирожков. Но бабушка не всегда довольна Вашими поступками и может надавать Вам ремня. А еще братишка, который без Вас ничего не может сделать и постоянно пытается Вас подбить на расследования интересных дел.  10 ночей из 10.10 бабушек из 101 пирожок🔴游戏挺好玩的，鬼的话，比较好躲（至少目前是的）最重要的是中文翻译简直离谱，有些地方根本就对不上号，导致影响游戏体验，比如，死亡时间那里：年应该是时。错十万八千里。整体还行吧。希望能纠正一下中文翻译。</td>\n",
       "    </tr>\n",
       "    <tr>\n",
       "      <td id=\"T_3c63d_row4_col0\" class=\"data row4 col0\" >Eternal Threads</td>\n",
       "      <td id=\"T_3c63d_row4_col1\" class=\"data row4 col1\" >Insufficient User Reviews</td>\n",
       "      <td id=\"T_3c63d_row4_col2\" class=\"data row4 col2\" >Cosmonaut Studios</td>\n",
       "      <td id=\"T_3c63d_row4_col3\" class=\"data row4 col3\" >Secret Mode </td>\n",
       "      <td id=\"T_3c63d_row4_col4\" class=\"data row4 col4\" >OS: Windows 10 (64-bit)🔴Processor: AMD FX 6300 X6 / Intel Core i5-3570K🔴Memory: 8 GB RAM🔴Graphics: 2 GB VRAM, Radeon 7870 / GeForce GTX 660🔴DirectX: Version 11</td>\n",
       "      <td id=\"T_3c63d_row4_col5\" class=\"data row4 col5\" >Full Review: https://www.gamepitt.co.uk/eternal-threads-pc-review/Final Conclusion:Eternal Threads is a superb story-based adventure game that plays like a puzzle game thanks to the seamless dynamic narrative. The characters, voice acting, and environment are all fantastic, delivering a believable household in the North of England populated by a variety of strong personalities. Although I wasn’t fully satisfied with the final conclusion, I simply adored every second I played and found myself determined to save everyone in the best possible way as it’s what they deserved after everything they’re going through. I simply can’t recommend this game enough.9/10🔴✅Если вы когда-то играли в карточную настольную игру \"Второй шанс\", то вы узнаете эту механику: произошла трагедия, погибли люди, вы должны смотреть события (в любом порядке) и делать выборы, чтобы изменить трагическую судьбу героев. Естественно, вы не знаете всей истории изначально и не можете знать, какой выбор к чему приведёт, но по ходу игры вы начинаете понимать что к чему и делать правильные выборы. Игра замечательная)💛Завтра на моём канале https://www.youtube.com/channel/UCOHsvi26GJGmVjaW4Ri_FAA выйдет первая серия прохождения данной игры :)</td>\n",
       "    </tr>\n",
       "  </tbody>\n",
       "</table>\n"
      ],
      "text/plain": [
       "<pandas.io.formats.style.Styler at 0x2e0ef4bdfd0>"
      ]
     },
     "execution_count": 4,
     "metadata": {},
     "output_type": "execute_result"
    }
   ],
   "source": [
    "s=[]\n",
    "R=[]\n",
    "df=[]\n",
    "#iterating through each link\n",
    "for link in links:\n",
    "    url = link\n",
    "    response = requests.request(\"GET\",url)\n",
    "    data = BeautifulSoup(response.text,'html.parser')\n",
    "    #get the title of the game\n",
    "    title = data.find(\"div\",{\"id\":\"appHubAppName\"}).text \n",
    "    #get count of positive user reviews\n",
    "    try:\n",
    "        m = data.find('span',{'class':'nonresponsive_hidden responsive_reviewdesc'}).text.split(' ')\n",
    "        Rating = math.ceil(((int(m[1].replace('%','')))/100)*int(m[4])) \n",
    "    except:\n",
    "        Rating = \"Insufficient User Reviews\"\n",
    "    #get developer and publisher name\n",
    "    developer = data.find('div',{\"id\":\"developers_list\"})\n",
    "    publisher = data.find_all('div',{\"class\":\"summary column\"})[2].text.replace('\\n','')\n",
    "    #get system requirements\n",
    "    for li in data.find('div', {\"class\":['game_area_sys_req_full', 'game_area_sys_req_leftCol']}).find('ul', class_='bb_ul').find_all('li'):\n",
    "        s.append(li.text)\n",
    "    #get top 10 reviews\n",
    "    str=\"https://steamcommunity.com/app/\" + link.split(\"/\")[4] + \"/reviews/?browsefilter=toprated&snr=1_5_100010_&filterLanguage=all\"\n",
    "    url = str\n",
    "    response = requests.request(\"GET\",url)\n",
    "    data = BeautifulSoup(response.text,'html.parser')\n",
    "    for i in data.find_all(\"div\",{\"class\":\"apphub_CardTextContent\"},limit=10):\n",
    "        R.append((((\"\".join(i.text.split(\"\\t\"))).strip()).splitlines())[-1])\n",
    "    #add all the details to dataframe\n",
    "    df.append({'Title': title,\n",
    "                'Positive Review Count' : Rating,\n",
    "                'Developer' : developer.text.strip(),\n",
    "                'Publisher' : publisher,\n",
    "                'System Requirements' : \"🔴\".join(s[:]),\n",
    "                'Review' : \"🔴\".join(R[:])\n",
    "                   })\n",
    "    \n",
    "    s.clear()\n",
    "    R.clear()\n",
    "df1 = pd.DataFrame(df)\n",
    "df = df1.style.set_table_styles([dict(selector='th', props=[('text-align', 'centre')])])\n",
    "df.set_properties(**{'text-align': 'centre'}).hide_index()\n",
    "\n",
    "\n",
    "\n",
    "    "
   ]
  },
  {
   "cell_type": "code",
   "execution_count": 5,
   "id": "6e06a3eb",
   "metadata": {},
   "outputs": [],
   "source": [
    "df1.to_csv('C:/Users/Shishir/Desktop/File.csv', mode='a', index=False, header=True)\n"
   ]
  }
 ],
 "metadata": {
  "kernelspec": {
   "display_name": "Python 3 (ipykernel)",
   "language": "python",
   "name": "python3"
  },
  "language_info": {
   "codemirror_mode": {
    "name": "ipython",
    "version": 3
   },
   "file_extension": ".py",
   "mimetype": "text/x-python",
   "name": "python",
   "nbconvert_exporter": "python",
   "pygments_lexer": "ipython3",
   "version": "3.9.7"
  }
 },
 "nbformat": 4,
 "nbformat_minor": 5
}
